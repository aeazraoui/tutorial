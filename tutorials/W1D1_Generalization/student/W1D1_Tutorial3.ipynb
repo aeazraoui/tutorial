{
  "cells": [
    {
      "cell_type": "markdown",
      "metadata": {
        "id": "view-in-github",
        "colab_type": "text"
      },
      "source": [
        "<a href=\"https://colab.research.google.com/github/aeazraoui/tutorial/blob/master/tutorials/W1D1_Generalization/student/W1D1_Tutorial3.ipynb\" target=\"_parent\"><img src=\"https://colab.research.google.com/assets/colab-badge.svg\" alt=\"Open In Colab\"/></a>"
      ]
    },
    {
      "cell_type": "markdown",
      "id": "195ff9f1-1b9c-4772-853a-f8498926ba63",
      "metadata": {
        "execution": {},
        "id": "195ff9f1-1b9c-4772-853a-f8498926ba63"
      },
      "source": [
        "<a href=\"https://colab.research.google.com/github/neuromatch/NeuroAI_Course/blob/main/tutorials/W1D1_Generalization/student/W1D1_Tutorial3.ipynb\" target=\"_parent\"><img src=\"https://colab.research.google.com/assets/colab-badge.svg\" alt=\"Open In Colab\"/></a> &nbsp; <a href=\"https://kaggle.com/kernels/welcome?src=https://raw.githubusercontent.com/neuromatch/NeuroAI_Course/main/tutorials/W1D1_Generalization/student/W1D1_Tutorial3.ipynb\" target=\"_parent\"><img src=\"https://kaggle.com/static/images/open-in-kaggle.svg\" alt=\"Open in Kaggle\"/></a>"
      ]
    },
    {
      "cell_type": "markdown",
      "id": "d78e57f5-dcf1-4fea-a607-dc8b812be7eb",
      "metadata": {
        "execution": {},
        "id": "d78e57f5-dcf1-4fea-a607-dc8b812be7eb"
      },
      "source": [
        "# Tutorial 3: Generalization in Cognitive Science\n",
        "\n",
        "**Week 1, Day 1: Generalization**\n",
        "\n",
        "**By Neuromatch Academy**\n",
        "\n",
        "__Content creators:__ Samuele Bolotta, Patrick Mineault\n",
        "\n",
        "__Content reviewers:__ Samuele Bolotta, Lily Chamakura, RyeongKyung Yoon, Yizhou Chen, Ruiyi Zhang, Aakash Agrawal, Alish Dipani, Hossein Rezaei, Yousef Ghanbari, Mostafa Abdollahi, Hlib Solodzhuk, Alex Murphy\n",
        "\n",
        "__Production editors:__ Konstantine Tsafatinos, Ella Batty, Spiros Chavlis, Samuele Bolotta, Hlib Solodzhuk, Alex Murphy\n"
      ]
    },
    {
      "cell_type": "markdown",
      "id": "aab73da2-b26e-457e-a1ae-0e7815c47592",
      "metadata": {
        "execution": {},
        "id": "aab73da2-b26e-457e-a1ae-0e7815c47592"
      },
      "source": [
        "___\n",
        "\n",
        "\n",
        "# Tutorial Objectives\n",
        "\n",
        "*Estimated timing of tutorial: 30 minutes*\n",
        "\n",
        "This tutorial will introduce you to generalization in the context of cognitive science. We'll close the loop of our exploration of different views of handwriting with a model that combines aspects of the models we covered in the neuroscience and AI tutorials, including both generative and discriminative components.\n",
        "\n",
        "In particular, we'll be looking at the Omniglot dataset, and how it can be used to infer how humans and machines generalize in a handwritten symbol recognition task. We'll try our hand at one-shot learning, and we'll measure our sample complexity. We'll then discuss how one cognitive model, [Feinman and Lake](https://arxiv.org/abs/2006.14448) (2020), attempts to solve the problem of handwritten symbol recognition using a neuro-symbolic method.\n",
        "\n",
        "By the end of this tutorial, participants will be able to:\n",
        "\n",
        "1. Explore the goals of cognitive science. Understand the aims of cognitive science such as unraveling the complexities of human cognition.\n",
        "\n",
        "2. Define one-shot learning and sample complexity. Perform a task that involves one-shot learning.\n",
        "\n",
        "3. Explore how a neurosymbolic model with strong inductive biases could explain one-shot learning on Omniglot."
      ]
    },
    {
      "cell_type": "code",
      "execution_count": null,
      "id": "450a02ee-d0ae-4923-ad3c-d978b9b4aa46",
      "metadata": {
        "cellView": "form",
        "execution": {},
        "id": "450a02ee-d0ae-4923-ad3c-d978b9b4aa46"
      },
      "outputs": [],
      "source": [
        "# @title Tutorial slides\n",
        "# @markdown These are the slides for the videos in all tutorials today\n",
        "\n",
        "from IPython.display import IFrame\n",
        "from ipywidgets import widgets\n",
        "out = widgets.Output()\n",
        "\n",
        "link_id = \"79523\"\n",
        "\n",
        "with out:\n",
        "    print(f\"If you want to download the slides: https://osf.io/download/{link_id}/\")\n",
        "    display(IFrame(src=f\"https://mfr.ca-1.osf.io/render?url=https://osf.io/{link_id}/?direct%26mode=render%26action=download%26mode=render\", width=730, height=410))\n",
        "display(out)"
      ]
    },
    {
      "cell_type": "markdown",
      "id": "9b51b72e-386a-49ad-94e8-648d62124e1f",
      "metadata": {
        "execution": {},
        "id": "9b51b72e-386a-49ad-94e8-648d62124e1f"
      },
      "source": [
        "---\n",
        "# Setup\n",
        "\n"
      ]
    },
    {
      "cell_type": "code",
      "execution_count": 1,
      "id": "4fac5d8b-5d72-423b-bbb2-975e61668304",
      "metadata": {
        "cellView": "form",
        "execution": {},
        "id": "4fac5d8b-5d72-423b-bbb2-975e61668304",
        "outputId": "187db12f-cac5-41e3-d622-90331b62b93b",
        "colab": {
          "base_uri": "https://localhost:8080/"
        }
      },
      "outputs": [
        {
          "output_type": "stream",
          "name": "stdout",
          "text": [
            "  Preparing metadata (setup.py) ... \u001b[?25l\u001b[?25hdone\n",
            "  Preparing metadata (setup.py) ... \u001b[?25l\u001b[?25hdone\n",
            "\u001b[2K   \u001b[90m━━━━━━━━━━━━━━━━━━━━━━━━━━━━━━━━━━━━━━━━\u001b[0m \u001b[32m1.6/1.6 MB\u001b[0m \u001b[31m22.7 MB/s\u001b[0m eta \u001b[36m0:00:00\u001b[0m\n",
            "\u001b[?25h  Building wheel for vibecheck (setup.py) ... \u001b[?25l\u001b[?25hdone\n",
            "  Building wheel for datatops (setup.py) ... \u001b[?25l\u001b[?25hdone\n"
          ]
        }
      ],
      "source": [
        "# @title Install and import feedback gadget\n",
        "\n",
        "!pip install matplotlib numpy Pillow scipy ipywidgets vibecheck tqdm --quiet\n",
        "\n",
        "from vibecheck import DatatopsContentReviewContainer\n",
        "def content_review(notebook_section: str):\n",
        "    return DatatopsContentReviewContainer(\n",
        "        \"\",  # No text prompt\n",
        "        notebook_section,\n",
        "        {\n",
        "            \"url\": \"https://pmyvdlilci.execute-api.us-east-1.amazonaws.com/klab\",\n",
        "            \"name\": \"neuromatch_neuroai\",\n",
        "            \"user_key\": \"wb2cxze8\",\n",
        "        },\n",
        "    ).render()\n",
        "\n",
        "\n",
        "feedback_prefix = \"W1D1_T3\""
      ]
    },
    {
      "cell_type": "code",
      "execution_count": 2,
      "id": "627f2870-3fd6-4a63-8360-36763673490d",
      "metadata": {
        "cellView": "form",
        "execution": {},
        "id": "627f2870-3fd6-4a63-8360-36763673490d"
      },
      "outputs": [],
      "source": [
        "# @title Import dependencies\n",
        "\n",
        "# Standard libraries\n",
        "import hashlib\n",
        "import logging\n",
        "import os\n",
        "import random\n",
        "import requests\n",
        "import shutil\n",
        "import time\n",
        "from importlib import reload\n",
        "import zipfile\n",
        "from zipfile import ZipFile\n",
        "\n",
        "# Data handling and visualization\n",
        "import matplotlib.patches as patches\n",
        "import matplotlib.pyplot as plt\n",
        "import numpy as np\n",
        "from PIL import Image\n",
        "import skimage\n",
        "from skimage import io\n",
        "from sklearn.model_selection import train_test_split\n",
        "\n",
        "# Deep Learning libraries\n",
        "import torch\n",
        "import torch.nn as nn\n",
        "import torch.nn.functional as F\n",
        "from scipy.spatial.distance import cdist\n",
        "\n",
        "# Interactive controls in Jupyter notebooks\n",
        "from IPython.display import clear_output, display, update_display\n",
        "import ipywidgets as widgets\n",
        "\n",
        "# Utility for progress bars\n",
        "from tqdm import tqdm"
      ]
    },
    {
      "cell_type": "code",
      "execution_count": 3,
      "id": "e870241d-73fb-455f-a8ef-c92f9b2bdaf3",
      "metadata": {
        "cellView": "form",
        "execution": {},
        "id": "e870241d-73fb-455f-a8ef-c92f9b2bdaf3"
      },
      "outputs": [],
      "source": [
        "# @title Figure settings\n",
        "# @markdown\n",
        "\n",
        "logging.getLogger('matplotlib.font_manager').disabled = True\n",
        "\n",
        "%matplotlib inline\n",
        "%config InlineBackend.figure_format = 'retina' # perfrom high definition rendering for images and plots\n",
        "plt.style.use(\"https://raw.githubusercontent.com/NeuromatchAcademy/course-content/main/nma.mplstyle\")"
      ]
    },
    {
      "cell_type": "code",
      "execution_count": 4,
      "id": "4452c1b0-d79d-4c17-8738-b0b342180a09",
      "metadata": {
        "cellView": "form",
        "execution": {},
        "id": "4452c1b0-d79d-4c17-8738-b0b342180a09"
      },
      "outputs": [],
      "source": [
        "# @title Plotting functions\n",
        "# @markdown\n",
        "\n",
        "def display_images(probe, options):\n",
        "    # Open the probe image and the option images\n",
        "    probe_image = Image.open(probe)\n",
        "    option_images = [Image.open(img_path) for img_path in options]\n",
        "\n",
        "    # Create a figure with the probe and the 3x3 grid for the options directly below\n",
        "    fig = plt.figure(figsize=(15, 10))  # Adjust figure size as needed\n",
        "\n",
        "    # Add the probe image to the top of the figure with a red border\n",
        "    ax_probe = fig.add_subplot(4, 3, (1, 3))  # Span the probe across the top 3 columns\n",
        "    ax_probe.imshow(probe_image)\n",
        "    ax_probe.axis('off')\n",
        "    rect = patches.Rectangle((0, 0), probe_image.width-1, probe_image.height-1, linewidth=2, edgecolor='r', facecolor='none')\n",
        "    ax_probe.add_patch(rect)\n",
        "\n",
        "    # Position the 3x3 grid of option images directly below the probe image\n",
        "    for index, img in enumerate(option_images):\n",
        "        row = (index // 3) + 1  # Calculate row in the 3x3 grid, starting directly below the probe\n",
        "        col = (index % 3) + 1   # Calculate column in the 3x3 grid\n",
        "        ax_option = fig.add_subplot(4, 3, row * 3 + col)  # Adjust grid position to directly follow the probe\n",
        "        ax_option.imshow(img)\n",
        "        ax_option.axis('off')\n",
        "\n",
        "    plt.tight_layout()\n",
        "    plt.show()"
      ]
    },
    {
      "cell_type": "code",
      "execution_count": 5,
      "id": "cab5deda-c9f0-4733-a01b-3d077a96bafb",
      "metadata": {
        "cellView": "form",
        "execution": {},
        "id": "cab5deda-c9f0-4733-a01b-3d077a96bafb"
      },
      "outputs": [],
      "source": [
        "# @title Data retrieval for zip files\n",
        "\n",
        "def handle_file_operations(fname, url, expected_md5, extract_to='data'):\n",
        "    \"\"\"Handles downloading, verifying, and extracting a file.\"\"\"\n",
        "\n",
        "    # Define helper functions for download, verify, and extract operations\n",
        "    def download_file(url, filename):\n",
        "        \"\"\"Downloads file from the given URL and saves it locally.\"\"\"\n",
        "        try:\n",
        "            r = requests.get(url, stream=True)\n",
        "            r.raise_for_status()\n",
        "            with open(filename, \"wb\") as fid:\n",
        "                for chunk in r.iter_content(chunk_size=8192):\n",
        "                    fid.write(chunk)\n",
        "            print(\"Download successful.\")\n",
        "            return True\n",
        "        except requests.RequestException as e:\n",
        "            print(f\"!!! Failed to download data: {e} !!!\")\n",
        "            return False\n",
        "\n",
        "    def verify_file_md5(filename, expected_md5):\n",
        "        \"\"\"Verifies the file's MD5 checksum.\"\"\"\n",
        "        hash_md5 = hashlib.md5()\n",
        "        with open(filename, \"rb\") as f:\n",
        "            for chunk in iter(lambda: f.read(4096), b\"\"):\n",
        "                hash_md5.update(chunk)\n",
        "        if hash_md5.hexdigest() == expected_md5:\n",
        "            print(\"MD5 checksum verified.\")\n",
        "            return True\n",
        "        else:\n",
        "            print(\"!!! Data download appears corrupted !!!\")\n",
        "            return False\n",
        "\n",
        "    def extract_zip_file(filename, extract_to):\n",
        "        \"\"\"Extracts the ZIP file to the specified directory.\"\"\"\n",
        "        try:\n",
        "            with zipfile.ZipFile(filename, 'r') as zip_ref:\n",
        "                zip_ref.extractall(extract_to)\n",
        "            print(f\"File extracted successfully to {extract_to}\")\n",
        "        except zipfile.BadZipFile:\n",
        "            print(\"!!! The ZIP file is corrupted or not a zip file !!!\")\n",
        "\n",
        "    # Main operation\n",
        "    if not os.path.isfile(fname) or not verify_file_md5(fname, expected_md5):\n",
        "        if download_file(url, fname) and verify_file_md5(fname, expected_md5):\n",
        "            extract_zip_file(fname, extract_to)\n",
        "    else:\n",
        "        print(f\"File '{fname}' already exists and is verified. Proceeding to extraction.\")\n",
        "        extract_zip_file(fname, extract_to)\n",
        "\n",
        "# Example usage\n",
        "file_info = [\n",
        "    {\"fname\": \"omniglot-py.zip\", \"url\": \"https://osf.io/bazxp/download\", \"expected_md5\": \"f7a4011f5c25460c6d95ee1428e377ed\"},\n",
        "]\n",
        "\n",
        "import contextlib\n",
        "import io\n",
        "\n",
        "with contextlib.redirect_stdout(io.StringIO()):\n",
        "    for file in file_info:\n",
        "        handle_file_operations(**file)\n",
        "\n",
        "#Current directory\n",
        "base_dir = os.getcwd()"
      ]
    },
    {
      "cell_type": "code",
      "execution_count": 6,
      "id": "593cf0b6-954a-414b-80b9-e356349bc934",
      "metadata": {
        "cellView": "form",
        "execution": {},
        "id": "593cf0b6-954a-414b-80b9-e356349bc934"
      },
      "outputs": [],
      "source": [
        "# @title Data retrieval for torch models\n",
        "\n",
        "def download_file(url, filename):\n",
        "    \"\"\"\n",
        "    Download a file from a given URL and save it in the specified directory.\n",
        "    \"\"\"\n",
        "    filepath = os.path.join(base_dir, filename)  # Ensure the file is saved in base_dir\n",
        "\n",
        "    response = requests.get(url)\n",
        "    response.raise_for_status()  # Check for HTTP request errors\n",
        "\n",
        "    with open(filepath, 'wb') as f:\n",
        "        f.write(response.content)\n",
        "\n",
        "\n",
        "def verify_checksum(filename, expected_checksum):\n",
        "    \"\"\"\n",
        "    Verify the MD5 checksum of a file\n",
        "\n",
        "    Parameters:\n",
        "    filename (str): Path to the file\n",
        "    expected_checksum (str): Expected MD5 checksum\n",
        "\n",
        "    Returns:\n",
        "    bool: True if the checksum matches, False otherwise\n",
        "    \"\"\"\n",
        "    md5 = hashlib.md5()\n",
        "\n",
        "    with open(filename, 'rb') as f:\n",
        "        for chunk in iter(lambda: f.read(4096), b\"\"):\n",
        "            md5.update(chunk)\n",
        "\n",
        "    return md5.hexdigest() == expected_checksum\n",
        "\n",
        "def load_models(model_files, directory, map_location='cpu'):\n",
        "    \"\"\"\n",
        "    Load multiple models from a specified directory.\n",
        "    \"\"\"\n",
        "    models = {}\n",
        "    for model_file in model_files:\n",
        "        full_path = os.path.join(directory, model_file)  # Correctly join paths\n",
        "        models[model_file] = torch.load(full_path, map_location=map_location)\n",
        "    return models\n",
        "\n",
        "def verify_models_in_destination(model_files, destination_directory):\n",
        "    \"\"\"\n",
        "    Verify the presence of model files in the specified directory.\n",
        "\n",
        "    Parameters:\n",
        "    model_files (list of str): Filenames of the models to verify.\n",
        "    destination_directory (str): The directory where the models are supposed to be.\n",
        "\n",
        "    Returns:\n",
        "    bool: True if all models are found in the directory, False otherwise.\n",
        "    \"\"\"\n",
        "    missing_files = []\n",
        "    for model_file in model_files:\n",
        "        # Construct the full path to where the model should be\n",
        "        full_path = os.path.join(destination_directory, model_file)\n",
        "        # Check if the model exists at the location\n",
        "        if not os.path.exists(full_path):\n",
        "            missing_files.append(model_file)\n",
        "\n",
        "    if missing_files:\n",
        "        print(f\"Missing model files in destination: {missing_files}\")\n",
        "        return False\n",
        "    else:\n",
        "        print(\"All models are correctly located in the destination directory.\")\n",
        "        return True\n",
        "\n",
        "# URLs and checksums for the models\n",
        "models_info = {\n",
        "    'location_model.pt': ('https://osf.io/zmd7y/download', 'dfd51cf7c3a277777ad941c4fcc23813'),\n",
        "    'stroke_model.pt': ('https://osf.io/m6yc7/download', '511ea7bd12566245d5d11a85d5a0abb0'),\n",
        "    'terminate_model.pt': ('https://osf.io/dsmhc/download', '2f3e26cfcf36ce9f9172c15d8b1079d1')\n",
        "}\n",
        "\n",
        "destination_directory = base_dir\n",
        "\n",
        "# Define model_files based on the keys of models_info to ensure we have the filenames\n",
        "model_files = list(models_info.keys())\n",
        "\n",
        "with contextlib.redirect_stdout(io.StringIO()):\n",
        "    # Iterate over the models to download and verify\n",
        "    for model_name, (url, checksum) in models_info.items():\n",
        "        download_file(url, model_name)  # Downloads directly into base_dir\n",
        "        if verify_checksum(os.path.join(base_dir, model_name), checksum):\n",
        "            print(f\"Successfully verified {model_name}\")\n",
        "        else:\n",
        "            print(f\"Checksum does not match for {model_name}. Download might be corrupted.\")\n",
        "\n",
        "with contextlib.redirect_stdout(io.StringIO()):\n",
        "    # Verify the presence of the models in the destination directory\n",
        "    if verify_models_in_destination(model_files, destination_directory):\n",
        "        print(\"Verification successful: All models are in the correct directory.\")\n",
        "    else:\n",
        "        print(\"Verification failed: Some models are missing from the destination directory.\")\n",
        "\n",
        "# Load the models from the destination directory\n",
        "models = load_models(model_files, destination_directory, map_location='cpu')"
      ]
    },
    {
      "cell_type": "code",
      "execution_count": 7,
      "id": "b3609707-5107-4b50-8b0a-a607890adadb",
      "metadata": {
        "cellView": "form",
        "execution": {},
        "id": "b3609707-5107-4b50-8b0a-a607890adadb"
      },
      "outputs": [],
      "source": [
        "# @title Helper functions\n",
        "\n",
        "def select_random_images_within_alphabet(base_path, alphabet_path, exclude_character_path, num_images=8):\n",
        "    # Initialize an empty list to store the paths of the chosen images\n",
        "    chosen_images = []\n",
        "\n",
        "    # Get a list of all character directories within the alphabet_path, excluding the directory specified by exclude_character_path\n",
        "    all_characters = [\n",
        "        char for char in os.listdir(alphabet_path)\n",
        "        if os.path.isdir(os.path.join(alphabet_path, char)) and os.path.join(alphabet_path, char) != exclude_character_path\n",
        "    ]\n",
        "\n",
        "    # Keep selecting images until we have the desired number of images (num_images)\n",
        "    while len(chosen_images) < num_images:\n",
        "        # If there are no more characters to choose from, exit the loop\n",
        "        if not all_characters:\n",
        "            break\n",
        "\n",
        "        # Randomly select a character directory from the list of all characters\n",
        "        character = random.choice(all_characters)\n",
        "        # Construct the full path to the selected character directory\n",
        "        character_path = os.path.join(alphabet_path, character)\n",
        "\n",
        "        # Get a list of all image files (with .png extension) in the selected character directory\n",
        "        all_images = [\n",
        "            img for img in os.listdir(character_path)\n",
        "            if img.endswith('.png')\n",
        "        ]\n",
        "\n",
        "        # If there are no images in the selected character directory, continue to the next iteration\n",
        "        if not all_images:\n",
        "            continue\n",
        "\n",
        "        # Randomly select an image file from the list of image files\n",
        "        image_file = random.choice(all_images)\n",
        "        # Construct the full path to the selected image file\n",
        "        image_path = os.path.join(character_path, image_file)\n",
        "\n",
        "        # Add the selected image path to the list of chosen images\n",
        "        chosen_images.append(image_path)\n",
        "\n",
        "    # Return the list of paths to the chosen images\n",
        "    return chosen_images\n",
        "\n",
        "def run_trial_interactive(base_path, output):\n",
        "    # Context manager to direct output to the provided widget\n",
        "    with output:\n",
        "        # Initialize and display the score widget\n",
        "        score_widget = widgets.Label(value=f'Score: {total_score}/{total_trials}', disabled=True)\n",
        "        display(score_widget)\n",
        "\n",
        "        # List all directories (languages) within the base path\n",
        "        languages = [lang for lang in os.listdir(base_path) if os.path.isdir(os.path.join(base_path, lang))]\n",
        "        # Randomly select a language directory\n",
        "        selected_language = random.choice(languages)\n",
        "        # Construct the path to the selected language directory\n",
        "        language_path = os.path.join(base_path, selected_language)\n",
        "\n",
        "        # List all directories (characters) within the selected language path\n",
        "        characters = [char for char in os.listdir(language_path) if os.path.isdir(os.path.join(language_path, char))]\n",
        "        # Randomly select a character directory\n",
        "        selected_character = random.choice(characters)\n",
        "        # Construct the path to the selected character directory\n",
        "        character_path = os.path.join(language_path, selected_character)\n",
        "\n",
        "        # List all .png files (images) in the selected character directory\n",
        "        images = [img for img in os.listdir(character_path) if img.endswith('.png')]\n",
        "        # Randomly select two images: one as the probe image and one as the correct answer\n",
        "        probe_image_path, correct_answer_image_path = random.sample(images, 2)\n",
        "        # Construct full paths to the probe image and the correct answer image\n",
        "        probe_image_path = os.path.join(character_path, probe_image_path)\n",
        "        correct_answer_image_path = os.path.join(character_path, correct_answer_image_path)\n",
        "\n",
        "        # Select a number of wrong answer images from other characters within the same language\n",
        "        wrong_answers = select_random_images_within_alphabet(base_path, language_path, character_path, num_images=8)\n",
        "        # Create the options list, which includes the wrong answers and the correct answer\n",
        "        options = wrong_answers\n",
        "        # Insert the correct answer at a random position within the options list\n",
        "        options.insert(random.randint(0, len(options)), correct_answer_image_path)\n",
        "\n",
        "        # Display a label indicating the reference image\n",
        "        display(widgets.Label(value='Reference image'))\n",
        "\n",
        "        # Display the probe image\n",
        "        display(widgets.Image(value=open(probe_image_path, 'rb').read(), format='png'))\n",
        "\n",
        "        # Create a grid of image widgets for the options\n",
        "        image_grid = widgets.GridBox([widgets.Image(value=open(opt, 'rb').read(), format='png', layout=widgets.Layout(width='100px', height='100px'))\n",
        "                                      for opt in options], layout=widgets.Layout(grid_template_columns='repeat(3, 100px)'))\n",
        "\n",
        "        # Create a grid of numbered buttons corresponding to the images\n",
        "        button_grid = widgets.GridBox([widgets.Button(description=str(i+1), layout=widgets.Layout(width='auto', height='auto'))\n",
        "                                       for i in range(len(options))], layout=widgets.Layout(grid_template_columns='repeat(3, 100px)'))\n",
        "\n",
        "        # Combine the image grid and the button grid into a single grid layout\n",
        "        global_grid = widgets.GridBox([image_grid, button_grid], layout=widgets.Layout(grid_template_columns='repeat(2, 300px)'))\n",
        "\n",
        "        # Display a label prompting the user to match the reference image\n",
        "        display(widgets.Label(value='Which of these images match the reference? '))\n",
        "\n",
        "        time.sleep(.2)\n",
        "\n",
        "        # Display the combined grid of images and buttons\n",
        "        display(global_grid)\n",
        "\n",
        "        # Attach click event handlers to the buttons\n",
        "        for b in button_grid.children:\n",
        "            b.on_click(lambda b: on_button_clicked(b, options, correct_answer_image_path, score_widget))"
      ]
    },
    {
      "cell_type": "code",
      "execution_count": 8,
      "id": "ce12a7d9-b6f6-4159-8ebe-ecc160f469ab",
      "metadata": {
        "cellView": "form",
        "execution": {},
        "id": "ce12a7d9-b6f6-4159-8ebe-ecc160f469ab",
        "outputId": "770d91e3-75b9-4aed-d515-13b500b2c349",
        "colab": {
          "base_uri": "https://localhost:8080/",
          "height": 581,
          "referenced_widgets": [
            "db6e8d440a7b43efa1ede8b2bff4b943",
            "720e859f1ddd4ebfbe32f38632f7bf52",
            "1069fceda1e246d6ae4ac90ad17a888a",
            "e230773f2e924b5fbd2c134c5aa0c88c",
            "7fc0749f1efc40fbb7a58898596764dc",
            "6f770b53ea944919a75e51ab0384292f"
          ]
        }
      },
      "outputs": [
        {
          "output_type": "display_data",
          "data": {
            "text/plain": [
              "Tab(children=(Output(), Output()), _titles={'0': 'Youtube', '1': 'Bilibili'})"
            ],
            "application/vnd.jupyter.widget-view+json": {
              "version_major": 2,
              "version_minor": 0,
              "model_id": "db6e8d440a7b43efa1ede8b2bff4b943"
            }
          },
          "metadata": {}
        }
      ],
      "source": [
        "# @title Video 1: Overview\n",
        "\n",
        "from ipywidgets import widgets\n",
        "from IPython.display import YouTubeVideo\n",
        "from IPython.display import IFrame\n",
        "from IPython.display import display\n",
        "\n",
        "class PlayVideo(IFrame):\n",
        "  def __init__(self, id, source, page=1, width=400, height=300, **kwargs):\n",
        "    self.id = id\n",
        "    if source == 'Bilibili':\n",
        "      src = f'https://player.bilibili.com/player.html?bvid={id}&page={page}'\n",
        "    elif source == 'Osf':\n",
        "      src = f'https://mfr.ca-1.osf.io/render?url=https://osf.io/download/{id}/?direct%26mode=render'\n",
        "    super(PlayVideo, self).__init__(src, width, height, **kwargs)\n",
        "\n",
        "def display_videos(video_ids, W=400, H=300, fs=1):\n",
        "  tab_contents = []\n",
        "  for i, video_id in enumerate(video_ids):\n",
        "    out = widgets.Output()\n",
        "    with out:\n",
        "      if video_ids[i][0] == 'Youtube':\n",
        "        video = YouTubeVideo(id=video_ids[i][1], width=W,\n",
        "                             height=H, fs=fs, rel=0)\n",
        "        print(f'Video available at https://youtube.com/watch?v={video.id}')\n",
        "      else:\n",
        "        video = PlayVideo(id=video_ids[i][1], source=video_ids[i][0], width=W,\n",
        "                          height=H, fs=fs, autoplay=False)\n",
        "        if video_ids[i][0] == 'Bilibili':\n",
        "          print(f'Video available at https://www.bilibili.com/video/{video.id}')\n",
        "        elif video_ids[i][0] == 'Osf':\n",
        "          print(f'Video available at https://osf.io/{video.id}')\n",
        "      display(video)\n",
        "    tab_contents.append(out)\n",
        "  return tab_contents\n",
        "\n",
        "video_ids = [('Youtube', 'MOmT5NDjD6A'), ('Bilibili', 'BV1Nz42187jL')]\n",
        "tab_contents = display_videos(video_ids, W=854, H=480)\n",
        "tabs = widgets.Tab()\n",
        "tabs.children = tab_contents\n",
        "for i in range(len(tab_contents)):\n",
        "  tabs.set_title(i, video_ids[i][0])\n",
        "display(tabs)"
      ]
    },
    {
      "cell_type": "code",
      "execution_count": null,
      "id": "7262af7b-b567-4d67-91d0-a865fd6b1793",
      "metadata": {
        "cellView": "form",
        "execution": {},
        "id": "7262af7b-b567-4d67-91d0-a865fd6b1793"
      },
      "outputs": [],
      "source": [
        "# @title Submit your feedback\n",
        "content_review(f\"{feedback_prefix}_Overview\")"
      ]
    },
    {
      "cell_type": "markdown",
      "id": "9711413f-c4e5-4415-a1e3-78e3f776066d",
      "metadata": {
        "execution": {},
        "id": "9711413f-c4e5-4415-a1e3-78e3f776066d"
      },
      "source": [
        "---\n",
        "# Section 1: How people recognize new characters\n",
        "\n",
        "Let's put ourselves in the mindset of a cognitive scientist studying handwriting. We're interested in how people learn to recognize new characters. Indeed, humans display low **sample complexity** when learning new visual concepts: they seem to grasp new concepts with very few presentations, generalizing effortlessly. In AI, learning from $k$ labeled examples is known as $k$-shot learning; one-shot and few-shot learning refer to learning from one or a few labeled examples.\n",
        "\n",
        "A good dataset to investigate one-shot learning is the Omniglot dataset. Omniglot has sometimes been described as *MNIST, transposed*. Instead of **thousands** of examples from **10** digit classes, Omniglot consists of **20** instances from **1623** character classes. These character classes are sourced from 50 alphabets, both natural (e.g. Cherokee or Greek) and constructed (e.g. the alien alphabet from the TV show Futurama).\n",
        "\n",
        "![Sample characters from the Omniglot dataset](https://github.com/brendenlake/omniglot/raw/master/omniglot_grid.jpg)\n",
        "\n",
        "Let's see if you're a good one-shot classifier by trying the Omniglot task yourself. Observing human behavior in the lab to infer their strategies is an important way that cognitive scientists make progress in understanding human cognition."
      ]
    },
    {
      "cell_type": "markdown",
      "id": "624859f8-1735-4611-918e-29dafc295ab5",
      "metadata": {
        "execution": {},
        "id": "624859f8-1735-4611-918e-29dafc295ab5"
      },
      "source": [
        "Your task is to conduct a series of trials to explore the Omniglot dataset. Here's how the experiment goes:\n",
        "\n",
        "1. **Click Start**\n",
        "\n",
        "2. **Look at the reference character at the top**\n",
        "\n",
        "3. **Look at 9 different potential matches at the bottom**. These include one more instance of the reference character class, and 8 distractors from other characters of the same alphabet.\n",
        "\n",
        "4. **Click the button corresponding to the best match**. The selection buttons are on the right of the grid.\n",
        "\n",
        "5. **Repeat for multiple trials**. Get to 10 or 20 to get an estimate of how well you perform."
      ]
    },
    {
      "cell_type": "code",
      "execution_count": null,
      "id": "57baab32-15c1-4977-8775-ee0e51e159f1",
      "metadata": {
        "execution": {},
        "id": "57baab32-15c1-4977-8775-ee0e51e159f1"
      },
      "outputs": [],
      "source": [
        "# Paths\n",
        "base_path = \"data/omniglot-py/images_background\"\n",
        "\n",
        "total_score = 0\n",
        "total_trials = 0\n",
        "\n",
        "output = widgets.Output()\n",
        "btn = None\n",
        "\n",
        "def start(b):\n",
        "    global total_score, total_trials\n",
        "    total_score = 0\n",
        "    total_trials = 0\n",
        "    output.clear_output(wait=True)\n",
        "    run_trial_interactive(base_path, output)\n",
        "    btn.description = 'Reset the interactive'\n",
        "\n",
        "def on_button_clicked(b, options, correct_answer_image_path, score_widget):\n",
        "    global total_score, total_trials\n",
        "    if options[int(b.description) - 1] == correct_answer_image_path:\n",
        "        total_score += 1\n",
        "    total_trials += 1\n",
        "    output.clear_output(wait=True)\n",
        "    run_trial_interactive(base_path, output)\n",
        "\n",
        "def display_start_button():\n",
        "    global btn\n",
        "    btn = widgets.Button(description='Start the interactive')\n",
        "    display(btn, output)\n",
        "    btn.on_click(start)\n",
        "\n",
        "display_start_button()"
      ]
    },
    {
      "cell_type": "markdown",
      "id": "4b5cfa75-b63f-44b5-95d9-92aedad4c4c7",
      "metadata": {
        "execution": {},
        "id": "4b5cfa75-b63f-44b5-95d9-92aedad4c4c7"
      },
      "source": [
        "How well did you do?"
      ]
    },
    {
      "cell_type": "code",
      "execution_count": null,
      "id": "1579c4cb-d83a-49c0-a1c1-758cd8f67b68",
      "metadata": {
        "cellView": "form",
        "execution": {},
        "id": "1579c4cb-d83a-49c0-a1c1-758cd8f67b68"
      },
      "outputs": [],
      "source": [
        "# @title Submit your feedback\n",
        "content_review(f\"{feedback_prefix}_Omniglot_Dataset\")"
      ]
    },
    {
      "cell_type": "markdown",
      "id": "3db39c9a-e4f7-4a8b-9be5-d04f017b9faf",
      "metadata": {
        "execution": {},
        "id": "3db39c9a-e4f7-4a8b-9be5-d04f017b9faf"
      },
      "source": [
        "## Reflection activity 1.1"
      ]
    },
    {
      "cell_type": "markdown",
      "id": "b13e078b-17bc-4da1-9470-d70c534edc33",
      "metadata": {
        "execution": {},
        "id": "b13e078b-17bc-4da1-9470-d70c534edc33"
      },
      "source": [
        "Sample complexity $N(\\varepsilon, \\delta)$ is formally defined as:\n",
        "\n",
        "> the number of examples $N$ that a learner must see in order to perform a task with an error rate smaller than $\\varepsilon$ with probability greater than $1-\\delta$.\n",
        "\n",
        "Based on this definition, what is your sample complexity on the Omniglot task?"
      ]
    },
    {
      "cell_type": "markdown",
      "id": "96cd18b3-9912-4307-b2e9-5cf0260983dc",
      "metadata": {
        "execution": {},
        "id": "96cd18b3-9912-4307-b2e9-5cf0260983dc"
      },
      "source": [
        "[*Click for solution*](https://github.com/neuromatch/NeuroAI_Course/tree/main/tutorials/W1D1_Generalization/solutions/W1D1_Tutorial3_Solution_9e44e6ca.py)\n",
        "\n"
      ]
    },
    {
      "cell_type": "code",
      "execution_count": null,
      "id": "adbc5db1-c13c-47b8-96c0-4bd264a4a58b",
      "metadata": {
        "cellView": "form",
        "execution": {},
        "id": "adbc5db1-c13c-47b8-96c0-4bd264a4a58b"
      },
      "outputs": [],
      "source": [
        "# @title Submit your feedback\n",
        "content_review(f\"{feedback_prefix}_Reflection_Activity_1\")"
      ]
    },
    {
      "cell_type": "markdown",
      "id": "22c68c49-e7e6-4104-9d76-b7bed3cbf084",
      "metadata": {
        "execution": {},
        "id": "22c68c49-e7e6-4104-9d76-b7bed3cbf084"
      },
      "source": [
        "## Reflection activity 1.2\n",
        "\n",
        "How do you think you, as a human, are performing a task like Omniglot?"
      ]
    },
    {
      "cell_type": "markdown",
      "id": "af834cb3-7089-46f1-ab9b-41394ac1410f",
      "metadata": {
        "execution": {},
        "id": "af834cb3-7089-46f1-ab9b-41394ac1410f"
      },
      "source": [
        "[*Click for solution*](https://github.com/neuromatch/NeuroAI_Course/tree/main/tutorials/W1D1_Generalization/solutions/W1D1_Tutorial3_Solution_dbbeabd0.py)\n",
        "\n"
      ]
    },
    {
      "cell_type": "code",
      "execution_count": null,
      "id": "e7f01bd9-8016-4ddf-9009-981f4e0dbf4d",
      "metadata": {
        "cellView": "form",
        "execution": {},
        "id": "e7f01bd9-8016-4ddf-9009-981f4e0dbf4d"
      },
      "outputs": [],
      "source": [
        "# @title Submit your feedback\n",
        "content_review(f\"{feedback_prefix}_Reflection_Activity_2\")"
      ]
    },
    {
      "cell_type": "markdown",
      "id": "47666813-c5dd-45fa-a331-308c14582956",
      "metadata": {
        "execution": {},
        "id": "47666813-c5dd-45fa-a331-308c14582956"
      },
      "source": [
        "---\n",
        "# Section 2: Model of one-shot learning"
      ]
    },
    {
      "cell_type": "code",
      "execution_count": null,
      "id": "c6610cd5-0542-4178-8faf-2c925a3b39fd",
      "metadata": {
        "cellView": "form",
        "execution": {},
        "id": "c6610cd5-0542-4178-8faf-2c925a3b39fd"
      },
      "outputs": [],
      "source": [
        "# @title Video 2: GNS Model\n",
        "\n",
        "from ipywidgets import widgets\n",
        "from IPython.display import YouTubeVideo\n",
        "from IPython.display import IFrame\n",
        "from IPython.display import display\n",
        "\n",
        "class PlayVideo(IFrame):\n",
        "  def __init__(self, id, source, page=1, width=400, height=300, **kwargs):\n",
        "    self.id = id\n",
        "    if source == 'Bilibili':\n",
        "      src = f'https://player.bilibili.com/player.html?bvid={id}&page={page}'\n",
        "    elif source == 'Osf':\n",
        "      src = f'https://mfr.ca-1.osf.io/render?url=https://osf.io/download/{id}/?direct%26mode=render'\n",
        "    super(PlayVideo, self).__init__(src, width, height, **kwargs)\n",
        "\n",
        "def display_videos(video_ids, W=400, H=300, fs=1):\n",
        "  tab_contents = []\n",
        "  for i, video_id in enumerate(video_ids):\n",
        "    out = widgets.Output()\n",
        "    with out:\n",
        "      if video_ids[i][0] == 'Youtube':\n",
        "        video = YouTubeVideo(id=video_ids[i][1], width=W,\n",
        "                             height=H, fs=fs, rel=0)\n",
        "        print(f'Video available at https://youtube.com/watch?v={video.id}')\n",
        "      else:\n",
        "        video = PlayVideo(id=video_ids[i][1], source=video_ids[i][0], width=W,\n",
        "                          height=H, fs=fs, autoplay=False)\n",
        "        if video_ids[i][0] == 'Bilibili':\n",
        "          print(f'Video available at https://www.bilibili.com/video/{video.id}')\n",
        "        elif video_ids[i][0] == 'Osf':\n",
        "          print(f'Video available at https://osf.io/{video.id}')\n",
        "      display(video)\n",
        "    tab_contents.append(out)\n",
        "  return tab_contents\n",
        "\n",
        "video_ids = [('Youtube', '2q1Q8l3Lg9c'), ('Bilibili', 'BV1DZ421u7vk')]\n",
        "tab_contents = display_videos(video_ids, W=854, H=480)\n",
        "tabs = widgets.Tab()\n",
        "tabs.children = tab_contents\n",
        "for i in range(len(tab_contents)):\n",
        "  tabs.set_title(i, video_ids[i][0])\n",
        "display(tabs)"
      ]
    },
    {
      "cell_type": "code",
      "execution_count": null,
      "id": "4e132277-5f80-4d87-a33a-615dbb39bfa0",
      "metadata": {
        "cellView": "form",
        "execution": {},
        "id": "4e132277-5f80-4d87-a33a-615dbb39bfa0"
      },
      "outputs": [],
      "source": [
        "# @title Submit your feedback\n",
        "content_review(f\"{feedback_prefix}_GNS_Model\")"
      ]
    },
    {
      "cell_type": "markdown",
      "id": "aa31cc80-3fbf-4a65-9ea2-178c981b7fd9",
      "metadata": {
        "execution": {},
        "id": "aa31cc80-3fbf-4a65-9ea2-178c981b7fd9"
      },
      "source": [
        "Feinman and Lake (2020) propose a cognitive model to explain how humans perform one-shot recognition tasks like Omniglot. Their model is based on the insight handwriting characters are highly structured: if we could infer how a character was generated, we could figure out the writer's intent, and perform one-shot recognition of characters.\n",
        "\n",
        "When we write down a character on a piece of paper or a screen, we might implicitly perform a sequence of steps:\n",
        "\n",
        "1. Prepare a global motor plan to write a character based on prior experience\n",
        "2. Decide where to put down the pen for the first stroke\n",
        "3. Draw a stroke in an appropriate direction.\n",
        "\n",
        "   a. Look at the sheet of paper during the writing to adjust the direction of the stroke\n",
        "4. Find a location for the second strike, and so on...\n",
        "5. When satisfied, stop drawing strokes\n",
        "\n",
        "Feinman and Lake (2020) propose to embed these assumptions into a generative model for how a single character is generated from strokes.\n",
        "\n",
        "<img src=\"https://github.com/neuromatch/NeuroAI_Course/blob/main/tutorials/W1D1_Generalization/static/model_diagram.png?raw=true\" width=600 />\n",
        "\n",
        "The result is a highly structured Bayesian generative model containing both discrete components (e.g. strokes) and continuous components (e.g. the location of the next stroke is a continuous variable). It combines symbolic primitives (strokes) as well as standard ANN components. This combination of using symbols and neural networks is known as a **neuro-symbolic** approach.\n",
        "\n",
        "This is an example of a model with **strong inductive biases**."
      ]
    },
    {
      "cell_type": "code",
      "execution_count": null,
      "id": "1424a819-df4a-4f9a-8f11-2a2145c717e9",
      "metadata": {
        "cellView": "form",
        "execution": {},
        "id": "1424a819-df4a-4f9a-8f11-2a2145c717e9"
      },
      "outputs": [],
      "source": [
        "# @title Submit your feedback\n",
        "content_review(f\"{feedback_prefix}_One_Shot_Learning\")"
      ]
    },
    {
      "cell_type": "markdown",
      "id": "206f46f9-5600-454f-8be7-76cbd47ba43d",
      "metadata": {
        "execution": {},
        "id": "206f46f9-5600-454f-8be7-76cbd47ba43d"
      },
      "source": [
        "---\n",
        "# The Big Picture\n",
        "\n",
        "* Cognitive science seeks to understand how human cognition works.\n",
        "* Humans display one-shot learning on Omniglot, a character recognition task. This requires extensive generalization.\n",
        "* Sample complexity measures the minimum number of examples needed to reach a specific performance with some probability; a sample complexity of 1 indicates one-shot learning at a specific performance level.\n",
        "* A generative neurosymbolic model with strong inductive biases exhibits human-level performance on Omniglot."
      ]
    }
  ],
  "metadata": {
    "colab": {
      "name": "W1D1_Tutorial3",
      "toc_visible": true,
      "provenance": [],
      "include_colab_link": true
    },
    "kernel": {
      "display_name": "Python 3",
      "language": "python",
      "name": "python3"
    },
    "kernelspec": {
      "display_name": "Python 3 (ipykernel)",
      "language": "python",
      "name": "python3"
    },
    "language_info": {
      "codemirror_mode": {
        "name": "ipython",
        "version": 3
      },
      "file_extension": ".py",
      "mimetype": "text/x-python",
      "name": "python",
      "nbconvert_exporter": "python",
      "pygments_lexer": "ipython3",
      "version": "3.9.22"
    },
    "widgets": {
      "application/vnd.jupyter.widget-state+json": {
        "db6e8d440a7b43efa1ede8b2bff4b943": {
          "model_module": "@jupyter-widgets/controls",
          "model_name": "TabModel",
          "model_module_version": "1.5.0",
          "state": {
            "_dom_classes": [],
            "_model_module": "@jupyter-widgets/controls",
            "_model_module_version": "1.5.0",
            "_model_name": "TabModel",
            "_titles": {
              "0": "Youtube",
              "1": "Bilibili"
            },
            "_view_count": null,
            "_view_module": "@jupyter-widgets/controls",
            "_view_module_version": "1.5.0",
            "_view_name": "TabView",
            "box_style": "",
            "children": [
              "IPY_MODEL_720e859f1ddd4ebfbe32f38632f7bf52",
              "IPY_MODEL_1069fceda1e246d6ae4ac90ad17a888a"
            ],
            "layout": "IPY_MODEL_e230773f2e924b5fbd2c134c5aa0c88c",
            "selected_index": 0
          }
        },
        "720e859f1ddd4ebfbe32f38632f7bf52": {
          "model_module": "@jupyter-widgets/output",
          "model_name": "OutputModel",
          "model_module_version": "1.0.0",
          "state": {
            "_dom_classes": [],
            "_model_module": "@jupyter-widgets/output",
            "_model_module_version": "1.0.0",
            "_model_name": "OutputModel",
            "_view_count": null,
            "_view_module": "@jupyter-widgets/output",
            "_view_module_version": "1.0.0",
            "_view_name": "OutputView",
            "layout": "IPY_MODEL_7fc0749f1efc40fbb7a58898596764dc",
            "msg_id": "",
            "outputs": [
              {
                "output_type": "stream",
                "name": "stdout",
                "text": [
                  "Video available at https://youtube.com/watch?v=MOmT5NDjD6A\n"
                ]
              },
              {
                "output_type": "display_data",
                "data": {
                  "text/plain": "<IPython.lib.display.YouTubeVideo at 0x79fb04080f50>",
                  "text/html": "\n        <iframe\n            width=\"854\"\n            height=\"480\"\n            src=\"https://www.youtube.com/embed/MOmT5NDjD6A?fs=1&rel=0\"\n            frameborder=\"0\"\n            allowfullscreen\n            \n        ></iframe>\n        ",
                  "image/jpeg": "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\n"
                },
                "metadata": {}
              }
            ]
          }
        },
        "1069fceda1e246d6ae4ac90ad17a888a": {
          "model_module": "@jupyter-widgets/output",
          "model_name": "OutputModel",
          "model_module_version": "1.0.0",
          "state": {
            "_dom_classes": [],
            "_model_module": "@jupyter-widgets/output",
            "_model_module_version": "1.0.0",
            "_model_name": "OutputModel",
            "_view_count": null,
            "_view_module": "@jupyter-widgets/output",
            "_view_module_version": "1.0.0",
            "_view_name": "OutputView",
            "layout": "IPY_MODEL_6f770b53ea944919a75e51ab0384292f",
            "msg_id": "",
            "outputs": [
              {
                "output_type": "stream",
                "name": "stdout",
                "text": [
                  "Video available at https://www.bilibili.com/video/BV1Nz42187jL\n"
                ]
              },
              {
                "output_type": "display_data",
                "data": {
                  "text/plain": "<__main__.PlayVideo at 0x79fa4665b0d0>",
                  "text/html": "\n        <iframe\n            width=\"854\"\n            height=\"480\"\n            src=\"https://player.bilibili.com/player.html?bvid=BV1Nz42187jL&page=1?fs=1&autoplay=False\"\n            frameborder=\"0\"\n            allowfullscreen\n            \n        ></iframe>\n        "
                },
                "metadata": {}
              }
            ]
          }
        },
        "e230773f2e924b5fbd2c134c5aa0c88c": {
          "model_module": "@jupyter-widgets/base",
          "model_name": "LayoutModel",
          "model_module_version": "1.2.0",
          "state": {
            "_model_module": "@jupyter-widgets/base",
            "_model_module_version": "1.2.0",
            "_model_name": "LayoutModel",
            "_view_count": null,
            "_view_module": "@jupyter-widgets/base",
            "_view_module_version": "1.2.0",
            "_view_name": "LayoutView",
            "align_content": null,
            "align_items": null,
            "align_self": null,
            "border": null,
            "bottom": null,
            "display": null,
            "flex": null,
            "flex_flow": null,
            "grid_area": null,
            "grid_auto_columns": null,
            "grid_auto_flow": null,
            "grid_auto_rows": null,
            "grid_column": null,
            "grid_gap": null,
            "grid_row": null,
            "grid_template_areas": null,
            "grid_template_columns": null,
            "grid_template_rows": null,
            "height": null,
            "justify_content": null,
            "justify_items": null,
            "left": null,
            "margin": null,
            "max_height": null,
            "max_width": null,
            "min_height": null,
            "min_width": null,
            "object_fit": null,
            "object_position": null,
            "order": null,
            "overflow": null,
            "overflow_x": null,
            "overflow_y": null,
            "padding": null,
            "right": null,
            "top": null,
            "visibility": null,
            "width": null
          }
        },
        "7fc0749f1efc40fbb7a58898596764dc": {
          "model_module": "@jupyter-widgets/base",
          "model_name": "LayoutModel",
          "model_module_version": "1.2.0",
          "state": {
            "_model_module": "@jupyter-widgets/base",
            "_model_module_version": "1.2.0",
            "_model_name": "LayoutModel",
            "_view_count": null,
            "_view_module": "@jupyter-widgets/base",
            "_view_module_version": "1.2.0",
            "_view_name": "LayoutView",
            "align_content": null,
            "align_items": null,
            "align_self": null,
            "border": null,
            "bottom": null,
            "display": null,
            "flex": null,
            "flex_flow": null,
            "grid_area": null,
            "grid_auto_columns": null,
            "grid_auto_flow": null,
            "grid_auto_rows": null,
            "grid_column": null,
            "grid_gap": null,
            "grid_row": null,
            "grid_template_areas": null,
            "grid_template_columns": null,
            "grid_template_rows": null,
            "height": null,
            "justify_content": null,
            "justify_items": null,
            "left": null,
            "margin": null,
            "max_height": null,
            "max_width": null,
            "min_height": null,
            "min_width": null,
            "object_fit": null,
            "object_position": null,
            "order": null,
            "overflow": null,
            "overflow_x": null,
            "overflow_y": null,
            "padding": null,
            "right": null,
            "top": null,
            "visibility": null,
            "width": null
          }
        },
        "6f770b53ea944919a75e51ab0384292f": {
          "model_module": "@jupyter-widgets/base",
          "model_name": "LayoutModel",
          "model_module_version": "1.2.0",
          "state": {
            "_model_module": "@jupyter-widgets/base",
            "_model_module_version": "1.2.0",
            "_model_name": "LayoutModel",
            "_view_count": null,
            "_view_module": "@jupyter-widgets/base",
            "_view_module_version": "1.2.0",
            "_view_name": "LayoutView",
            "align_content": null,
            "align_items": null,
            "align_self": null,
            "border": null,
            "bottom": null,
            "display": null,
            "flex": null,
            "flex_flow": null,
            "grid_area": null,
            "grid_auto_columns": null,
            "grid_auto_flow": null,
            "grid_auto_rows": null,
            "grid_column": null,
            "grid_gap": null,
            "grid_row": null,
            "grid_template_areas": null,
            "grid_template_columns": null,
            "grid_template_rows": null,
            "height": null,
            "justify_content": null,
            "justify_items": null,
            "left": null,
            "margin": null,
            "max_height": null,
            "max_width": null,
            "min_height": null,
            "min_width": null,
            "object_fit": null,
            "object_position": null,
            "order": null,
            "overflow": null,
            "overflow_x": null,
            "overflow_y": null,
            "padding": null,
            "right": null,
            "top": null,
            "visibility": null,
            "width": null
          }
        }
      }
    }
  },
  "nbformat": 4,
  "nbformat_minor": 5
}